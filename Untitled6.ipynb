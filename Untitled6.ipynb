{
 "cells": [
  {
   "cell_type": "code",
   "execution_count": 18,
   "metadata": {},
   "outputs": [
    {
     "name": "stdout",
     "output_type": "stream",
     "text": [
      "Monday Report: ['Statistics for today:', 'Routes:  17', 'FULL:  15', 'MFN:  2', 'LVP:  2', 'LWP:  0', 'Parcels:  2889']\n"
     ]
    }
   ],
   "source": [
    "import csv\n",
    "import pandas as pd\n",
    "import numpy as np\n",
    "import math\n",
    "\n",
    "\n",
    "\n",
    "#add week to each day (week 18) \n",
    "monday = pd.read_csv(\"monday.csv\")\n",
    "monday.dropna(subset=['ROUTE'], axis = 'rows', how ='all', inplace = True) \n",
    "monday.fillna(0,inplace = True)\n",
    "#get rid of columns we don't need\n",
    "monday.drop([\"VANS \", \"FDDS\", \"PHR\",\"POD\",\"CALL\",\"CONS\",\"DAILY DPMO \",\"week\"],axis = 1,inplace = True, errors = 'ignore')\n",
    "#add week column\n",
    "monday[\"WEEK\"] = \"18\"\n",
    "monday.to_csv(\"monday.csv\", index=False)\n",
    "\n",
    "numOfRoutes_mon = monday['IN'].value_counts()[1] \n",
    "numOfLVP_mon = int(monday['LVP'].sum())\n",
    "numOfLWP_mon = int(monday['LWP'].sum())\n",
    "numOfParcels_mon = int(monday['PARCEL'].sum())\n",
    "numOfMFNRoutes_mon = monday['ROUTE'].value_counts()['MFN']\n",
    "numOfFUllRoutes_mon = numOfRoutes_mon - numOfMFNRoutes_mon\n",
    "\n",
    "\n",
    "names = ['Routes: ',\"FULL: \", 'MFN: ', 'LVP: ', 'LWP: ','Parcels: ']\n",
    "#print(names)\n",
    "values = [str(numOfRoutes_mon),str(numOfFUllRoutes_mon),str(numOfMFNRoutes_mon),\n",
    "          str(numOfLVP_mon),str(numOfLWP_mon),str(numOfParcels_mon)]\n",
    "#print(values)\n",
    "#nl = '\\n'\n",
    "myNum = len(values)\n",
    "for i in names:\n",
    "    n1 = names[0] + f\" \" + values[0] \n",
    "    n2 = names[1] + f\" \" + values[1]\n",
    "    n3 = names[2] + f\" \" + values[2]\n",
    "    n4 = names[3] + f\" \" + values[3]\n",
    "    n5 = names[4] + f\" \" + values[4]\n",
    "    n6 = names[5] + f\" \" + values[5]\n",
    "    text = f\"Statistics for today:\"\n",
    "#print(text,n1,n2,n3,n4)\n",
    "satStats = [text,n1,n2,n3,n4,n5,n6]\n",
    "print(\"Monday Report:\", satStats)\n",
    "\n",
    "\n",
    "\n"
   ]
  },
  {
   "cell_type": "code",
   "execution_count": null,
   "metadata": {},
   "outputs": [],
   "source": [
    "#monday.head(25)\n",
    "#add week to each day (week 18) \n",
    "monday = pd.read_csv(\"monday.csv\")\n",
    "monday.dropna(subset=['ROUTE'], axis = 'rows', how ='all', inplace = True) \n",
    "monday.fillna(0,inplace = True)\n",
    "#get rid of columns we don't need\n",
    "monday.drop([\"VANS \", \"FDDS\", \"PHR\",\"POD\",\"CALL\",\"CONS\",\"DAILY DPMO \",\"week\"],axis = 1,inplace = True, errors = 'ignore')\n",
    "#add week column\n",
    "monday[\"WEEK\"] = \"18\"\n",
    "monday.to_csv(\"monday.csv\", index=False)\n",
    "numOfCRTss = monday['CRT'].value_counts()\n",
    "#numOfRL = monday['RL'].value_counts()\n",
    "\n",
    "\n",
    "    # set a counter variable\n",
    "numOfCRTss = 0\n",
    "#numOfRL = 0\n",
    "\n",
    "numOfCRTss = monday['CRT'].sum()\n",
    "numOfCRTss\n",
    "    # loop through each item in the data set you made\n",
    "# while x < numOfCRTss:\n",
    "#     print('Route found: ', x , ' : ',  numOfCRTss)\n",
    "\n",
    "#         # make a conitional statment that if it finds what you are looking for it will increment the counter variable above\n",
    "#     numOfCRTss = numOfCRTss + 1\n",
    "\n",
    "#         #increment the loop    \n",
    "#     x = x + 1\n"
   ]
  },
  {
   "cell_type": "code",
   "execution_count": null,
   "metadata": {},
   "outputs": [],
   "source": [
    "#add week to each day (week 18) \n",
    "monday = pd.read_csv(\"monday.csv\")\n",
    "monday.dropna(subset=['ROUTE'], axis = 'rows', how ='all', inplace = True) \n",
    "monday.fillna(0,inplace = True)\n",
    "#get rid of columns we don't need\n",
    "monday.drop([\"VANS \", \"FDDS\", \"PHR\",\"POD\",\"CALL\",\"CONS\",\"DAILY DPMO \",\"week\"],axis = 1,inplace = True, errors = 'ignore')\n",
    "#add week column\n",
    "monday[\"WEEK\"] = \"18\"\n",
    "monday.to_csv(\"monday.csv\", index=False)\n",
    "\n",
    "numOfCRTss = monday['CRT'].sum()\n",
    "numOfCRTss"
   ]
  },
  {
   "cell_type": "code",
   "execution_count": null,
   "metadata": {},
   "outputs": [],
   "source": [
    "monday.head(2)\n"
   ]
  }
 ],
 "metadata": {
  "kernelspec": {
   "display_name": "Django Shell-Plus",
   "language": "python",
   "name": "django_extensions"
  },
  "language_info": {
   "codemirror_mode": {
    "name": "ipython",
    "version": 3
   },
   "file_extension": ".py",
   "mimetype": "text/x-python",
   "name": "python",
   "nbconvert_exporter": "python",
   "pygments_lexer": "ipython3",
   "version": "3.8.2"
  }
 },
 "nbformat": 4,
 "nbformat_minor": 4
}
