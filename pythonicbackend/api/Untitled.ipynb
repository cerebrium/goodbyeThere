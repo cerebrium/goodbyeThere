{
 "cells": [
  {
   "cell_type": "code",
   "execution_count": null,
   "metadata": {},
   "outputs": [],
   "source": [
    "import csv\n",
    "import pandas as pd\n",
    "import numpy as np\n",
    "import math\n",
    "\n",
    "    # create array\n",
    "myArray = []\n",
    "\n",
    "    # create variable for import\n",
    "    data = pd.read_csv(\"sunday2.csv\")\n",
    "\n",
    "    # clean data -- good job, this is exactly what jupyter notebooks is for... youll need to do more of this kind of thing... for instances I removed the spaces from the \n",
    "    # csv file manually.... cant have spaces in names or will cause errors elsewhere\n",
    "    data.dropna(subset=['ROUTE'], axis = 'rows', how ='all', inplace = True) \n",
    "    data.fillna(0,inplace = True)\n"
   ]
  }
 ],
 "metadata": {
  "kernelspec": {
   "display_name": "Django Shell-Plus",
   "language": "python",
   "name": "django_extensions"
  },
  "language_info": {
   "codemirror_mode": {
    "name": "ipython",
    "version": 3
   },
   "file_extension": ".py",
   "mimetype": "text/x-python",
   "name": "python",
   "nbconvert_exporter": "python",
   "pygments_lexer": "ipython3",
   "version": "3.8.2"
  }
 },
 "nbformat": 4,
 "nbformat_minor": 4
}
